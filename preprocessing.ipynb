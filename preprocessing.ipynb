{
 "cells": [
  {
   "cell_type": "markdown",
   "metadata": {},
   "source": [
    "This module will be charged of loading the test_insurance.csv, preporcess the data and return the resulting Dataframe"
   ]
  },
  {
   "cell_type": "code",
   "execution_count": 62,
   "metadata": {},
   "outputs": [],
   "source": [
    "import numpy as np\n",
    "import pandas as pd\n",
    "import matplotlib.pyplot as plt\n",
    "import seaborn as sns\n",
    "\n",
    "\n",
    "from sklearn.impute import SimpleImputer\n",
    "from sklearn.preprocessing import OneHotEncoder\n",
    "from sklearn.preprocessing import OrdinalEncoder\n",
    "from sklearn.preprocessing import RobustScaler\n",
    "\n",
    "import warnings\n",
    "warnings.filterwarnings('ignore')"
   ]
  },
  {
   "cell_type": "code",
   "execution_count": 63,
   "metadata": {},
   "outputs": [],
   "source": [
    "# load data and drop id\n",
    "df_insurance = pd.read_csv(\"./test_Insurance.csv\")\n",
    "df_insurance.drop(axis=1, labels=['Customer Id'], inplace=True)"
   ]
  },
  {
   "cell_type": "code",
   "execution_count": 64,
   "metadata": {},
   "outputs": [],
   "source": [
    "# nan values function\n",
    "def handle_nan_values(df:pd.DataFrame, column:str, strategy:str):\n",
    "  mf_imputer = SimpleImputer(missing_values=np.nan, strategy=strategy)\n",
    "  garden_arr = mf_imputer.fit_transform(df_insurance.loc[:, [column]])\n",
    "  df_insurance[column] = pd.DataFrame(data=garden_arr, columns=[column])\n",
    "\n",
    "# normalization funtion\n",
    "def normalize_with_robust_scaler(df:pd.DataFrame, column:str):\n",
    "  standard_sclaer = RobustScaler()\n",
    "  bd_norm_arr = standard_sclaer.fit_transform(df.loc[:, [column]])\n",
    "  df[column] = bd_norm_arr\n",
    "\n",
    "# handle outliers function\n",
    "def handle_outliers_with_box_plot(df:pd.DataFrame, column:str):\n",
    "  Q1, Q3 = np.percentile(df[column], [25, 75])\n",
    "  IQR = Q3 - Q1\n",
    "  upper_limit = Q3+1.5*IQR\n",
    "  lower_limit = Q1-1.5*IQR\n",
    "  df[column] = np.where(df[column] > upper_limit, upper_limit,\n",
    "                                                np.where(df[column] < lower_limit, lower_limit, df[column]))\n",
    "  \n",
    "# remove column function\n",
    "def remove_column(df:pd.DataFrame, column:str):\n",
    "  df.drop(axis=1, labels=[column], inplace=True)\n",
    "\n",
    "# transform the num_windows values from 'without' --> 0, '>=10' --> 10 \n",
    "# and cast the values to int\n",
    "def transform_num_windows(df:pd.DataFrame)->None:\n",
    "  df['NumberOfWindows'] = np.where(df['NumberOfWindows'] == 'without', '0', np.where(df['NumberOfWindows'] == '>=10', '10', df['NumberOfWindows']))\n",
    "  ## casting to int\n",
    "  df['NumberOfWindows'] = pd.to_numeric(df['NumberOfWindows'])\n",
    "  \n",
    "def encode_true_false(df:pd.DataFrame, feature:str,categories:list, result_cols:list):\n",
    "  # this encoder will transform N to 0 and V to 1 in the given feature\n",
    "  # save the result into new columns of which the names are given in result_cols\n",
    "  enc = OneHotEncoder(sparse_output=False, categories=[categories])\n",
    "  df[result_cols] = enc.fit_transform(df.loc[:, [feature]]) # will be added at the end\n",
    "  df.drop(axis=1, labels=[feature], inplace=True)\n",
    "\n",
    "# sepearate data\n",
    "def seperate_data(df:pd.DataFrame, class_name:str):\n",
    "  df_cp = df.copy(deep=True)\n",
    "  Y_train = df_cp.loc[:, [class_name]].values\n",
    "  df_cp.drop(axis=1, inplace=True, labels=[class_name])\n",
    "  X_train = df_cp.values\n",
    "  return X_train, Y_train\n",
    "\n",
    "def transform_insured_period(df:pd.DataFrame):\n",
    "  df['Insured_Period'] = df['Insured_Period'].apply(lambda x: 0 if x == 0.5 else x)\n",
    "  \n",
    "def encode_Building_type(df):\n",
    "  enc = OrdinalEncoder(categories=[['Wood-framed', 'Ordinary', 'Non-combustible', 'Fire-resistive']])\n",
    "  df['Building_Type'] = enc.fit_transform(df.loc[:, ['Building_Type']])\n"
   ]
  },
  {
   "cell_type": "code",
   "execution_count": 65,
   "metadata": {},
   "outputs": [
    {
     "data": {
      "text/plain": [
       "YearOfObservation     0\n",
       "Insured_Period        0\n",
       "Residential           0\n",
       "Building_Painted      0\n",
       "Building_Fenced       0\n",
       "Garden                0\n",
       "Settlement            0\n",
       "Building Dimension    0\n",
       "Building_Type         0\n",
       "NumberOfWindows       0\n",
       "Geo_Code              0\n",
       "Claim                 0\n",
       "dtype: int64"
      ]
     },
     "execution_count": 65,
     "metadata": {},
     "output_type": "execute_result"
    }
   ],
   "source": [
    "# nan values\n",
    "handle_nan_values(df_insurance, 'Geo_Code', 'most_frequent')\n",
    "handle_nan_values(df_insurance, 'Building Dimension', 'median')\n",
    "handle_nan_values(df_insurance, 'Garden', 'most_frequent')\n",
    "\n",
    "df_insurance.isnull().sum()"
   ]
  },
  {
   "cell_type": "code",
   "execution_count": 66,
   "metadata": {},
   "outputs": [
    {
     "data": {
      "text/plain": [
       "'Building Dimension'"
      ]
     },
     "execution_count": 66,
     "metadata": {},
     "output_type": "execute_result"
    }
   ],
   "source": [
    "# Normalize 'Building Dimension'\n",
    "normalize_with_robust_scaler(df_insurance, 'Building Dimension')\n",
    "'Building Dimension'"
   ]
  },
  {
   "cell_type": "code",
   "execution_count": 67,
   "metadata": {},
   "outputs": [],
   "source": [
    "# Handling outliers\n",
    "handle_outliers_with_box_plot(df_insurance, 'Building Dimension')"
   ]
  },
  {
   "cell_type": "code",
   "execution_count": 68,
   "metadata": {},
   "outputs": [],
   "source": [
    "# Remove unmeaningful columns\n",
    "remove_column(df_insurance, 'Geo_Code')\n",
    "remove_column(df_insurance, 'YearOfObservation')"
   ]
  },
  {
   "cell_type": "code",
   "execution_count": 69,
   "metadata": {},
   "outputs": [],
   "source": [
    "# data transformation\n",
    "transform_num_windows(df_insurance)\n",
    "transform_insured_period(df_insurance)"
   ]
  },
  {
   "cell_type": "code",
   "execution_count": 70,
   "metadata": {},
   "outputs": [],
   "source": [
    "# Encoding data\n",
    "encode_true_false(df_insurance, 'Building_Fenced',['V', 'N'], ['Fenced=T', 'Fenced=F'])\n",
    "encode_true_false(df_insurance, 'Building_Painted',['V', 'N'], ['Painted=T', 'Painted=F'])\n",
    "encode_Building_type(df_insurance)\n",
    "encode_true_false(df_insurance, 'Garden', ['V','O'], ['Garden=T', 'Garden=F'])\n",
    "encode_true_false(df_insurance, 'Settlement', ['R', 'U'], ['Settle=R', 'Settle=U'])"
   ]
  },
  {
   "cell_type": "code",
   "execution_count": 71,
   "metadata": {},
   "outputs": [
    {
     "name": "stdout",
     "output_type": "stream",
     "text": [
      "<class 'numpy.ndarray'> (2147, 13)\n",
      "<class 'numpy.ndarray'> (2147, 1)\n"
     ]
    }
   ],
   "source": [
    "# seperate data\n",
    "X_train, Y_train = seperate_data(df_insurance, 'Claim')\n",
    "print(type(X_train), X_train.shape)\n",
    "print(type(Y_train), Y_train.shape)"
   ]
  }
 ],
 "metadata": {
  "kernelspec": {
   "display_name": "machine-learning-2",
   "language": "python",
   "name": "machine-learning-2"
  },
  "language_info": {
   "codemirror_mode": {
    "name": "ipython",
    "version": 3
   },
   "file_extension": ".py",
   "mimetype": "text/x-python",
   "name": "python",
   "nbconvert_exporter": "python",
   "pygments_lexer": "ipython3",
   "version": "3.8.10"
  }
 },
 "nbformat": 4,
 "nbformat_minor": 2
}
